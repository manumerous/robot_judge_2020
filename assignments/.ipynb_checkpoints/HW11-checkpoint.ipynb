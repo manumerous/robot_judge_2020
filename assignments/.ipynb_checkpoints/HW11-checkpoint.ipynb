{
 "cells": [
  {
   "cell_type": "markdown",
   "metadata": {},
   "source": [
    "# HW11: ML Fairness"
   ]
  },
  {
   "cell_type": "code",
   "execution_count": 6,
   "metadata": {},
   "outputs": [],
   "source": [
    "import pandas as pd"
   ]
  },
  {
   "cell_type": "markdown",
   "metadata": {},
   "source": [
    "# Data Prep"
   ]
  },
  {
   "cell_type": "code",
   "execution_count": 7,
   "metadata": {},
   "outputs": [
    {
     "data": {
      "text/html": [
       "<div>\n",
       "<style scoped>\n",
       "    .dataframe tbody tr th:only-of-type {\n",
       "        vertical-align: middle;\n",
       "    }\n",
       "\n",
       "    .dataframe tbody tr th {\n",
       "        vertical-align: top;\n",
       "    }\n",
       "\n",
       "    .dataframe thead th {\n",
       "        text-align: right;\n",
       "    }\n",
       "</style>\n",
       "<table border=\"1\" class=\"dataframe\">\n",
       "  <thead>\n",
       "    <tr style=\"text-align: right;\">\n",
       "      <th></th>\n",
       "      <th>id</th>\n",
       "      <th>name</th>\n",
       "      <th>first</th>\n",
       "      <th>last</th>\n",
       "      <th>compas_screening_date</th>\n",
       "      <th>sex</th>\n",
       "      <th>dob</th>\n",
       "      <th>age</th>\n",
       "      <th>age_cat</th>\n",
       "      <th>race</th>\n",
       "      <th>...</th>\n",
       "      <th>v_decile_score</th>\n",
       "      <th>v_score_text</th>\n",
       "      <th>v_screening_date</th>\n",
       "      <th>in_custody</th>\n",
       "      <th>out_custody</th>\n",
       "      <th>priors_count.1</th>\n",
       "      <th>start</th>\n",
       "      <th>end</th>\n",
       "      <th>event</th>\n",
       "      <th>two_year_recid</th>\n",
       "    </tr>\n",
       "  </thead>\n",
       "  <tbody>\n",
       "    <tr>\n",
       "      <th>0</th>\n",
       "      <td>1</td>\n",
       "      <td>miguel hernandez</td>\n",
       "      <td>miguel</td>\n",
       "      <td>hernandez</td>\n",
       "      <td>2013-08-14</td>\n",
       "      <td>Male</td>\n",
       "      <td>1947-04-18</td>\n",
       "      <td>69</td>\n",
       "      <td>Greater than 45</td>\n",
       "      <td>Other</td>\n",
       "      <td>...</td>\n",
       "      <td>1</td>\n",
       "      <td>Low</td>\n",
       "      <td>2013-08-14</td>\n",
       "      <td>2014-07-07</td>\n",
       "      <td>2014-07-14</td>\n",
       "      <td>0</td>\n",
       "      <td>0</td>\n",
       "      <td>327</td>\n",
       "      <td>0</td>\n",
       "      <td>0</td>\n",
       "    </tr>\n",
       "    <tr>\n",
       "      <th>1</th>\n",
       "      <td>3</td>\n",
       "      <td>kevon dixon</td>\n",
       "      <td>kevon</td>\n",
       "      <td>dixon</td>\n",
       "      <td>2013-01-27</td>\n",
       "      <td>Male</td>\n",
       "      <td>1982-01-22</td>\n",
       "      <td>34</td>\n",
       "      <td>25 - 45</td>\n",
       "      <td>African-American</td>\n",
       "      <td>...</td>\n",
       "      <td>1</td>\n",
       "      <td>Low</td>\n",
       "      <td>2013-01-27</td>\n",
       "      <td>2013-01-26</td>\n",
       "      <td>2013-02-05</td>\n",
       "      <td>0</td>\n",
       "      <td>9</td>\n",
       "      <td>159</td>\n",
       "      <td>1</td>\n",
       "      <td>1</td>\n",
       "    </tr>\n",
       "    <tr>\n",
       "      <th>2</th>\n",
       "      <td>4</td>\n",
       "      <td>ed philo</td>\n",
       "      <td>ed</td>\n",
       "      <td>philo</td>\n",
       "      <td>2013-04-14</td>\n",
       "      <td>Male</td>\n",
       "      <td>1991-05-14</td>\n",
       "      <td>24</td>\n",
       "      <td>Less than 25</td>\n",
       "      <td>African-American</td>\n",
       "      <td>...</td>\n",
       "      <td>3</td>\n",
       "      <td>Low</td>\n",
       "      <td>2013-04-14</td>\n",
       "      <td>2013-06-16</td>\n",
       "      <td>2013-06-16</td>\n",
       "      <td>4</td>\n",
       "      <td>0</td>\n",
       "      <td>63</td>\n",
       "      <td>0</td>\n",
       "      <td>1</td>\n",
       "    </tr>\n",
       "    <tr>\n",
       "      <th>3</th>\n",
       "      <td>5</td>\n",
       "      <td>marcu brown</td>\n",
       "      <td>marcu</td>\n",
       "      <td>brown</td>\n",
       "      <td>2013-01-13</td>\n",
       "      <td>Male</td>\n",
       "      <td>1993-01-21</td>\n",
       "      <td>23</td>\n",
       "      <td>Less than 25</td>\n",
       "      <td>African-American</td>\n",
       "      <td>...</td>\n",
       "      <td>6</td>\n",
       "      <td>Medium</td>\n",
       "      <td>2013-01-13</td>\n",
       "      <td>NaN</td>\n",
       "      <td>NaN</td>\n",
       "      <td>1</td>\n",
       "      <td>0</td>\n",
       "      <td>1174</td>\n",
       "      <td>0</td>\n",
       "      <td>0</td>\n",
       "    </tr>\n",
       "    <tr>\n",
       "      <th>4</th>\n",
       "      <td>6</td>\n",
       "      <td>bouthy pierrelouis</td>\n",
       "      <td>bouthy</td>\n",
       "      <td>pierrelouis</td>\n",
       "      <td>2013-03-26</td>\n",
       "      <td>Male</td>\n",
       "      <td>1973-01-22</td>\n",
       "      <td>43</td>\n",
       "      <td>25 - 45</td>\n",
       "      <td>Other</td>\n",
       "      <td>...</td>\n",
       "      <td>1</td>\n",
       "      <td>Low</td>\n",
       "      <td>2013-03-26</td>\n",
       "      <td>NaN</td>\n",
       "      <td>NaN</td>\n",
       "      <td>2</td>\n",
       "      <td>0</td>\n",
       "      <td>1102</td>\n",
       "      <td>0</td>\n",
       "      <td>0</td>\n",
       "    </tr>\n",
       "  </tbody>\n",
       "</table>\n",
       "<p>5 rows × 53 columns</p>\n",
       "</div>"
      ],
      "text/plain": [
       "   id                name   first         last compas_screening_date   sex  \\\n",
       "0   1    miguel hernandez  miguel    hernandez            2013-08-14  Male   \n",
       "1   3         kevon dixon   kevon        dixon            2013-01-27  Male   \n",
       "2   4            ed philo      ed        philo            2013-04-14  Male   \n",
       "3   5         marcu brown   marcu        brown            2013-01-13  Male   \n",
       "4   6  bouthy pierrelouis  bouthy  pierrelouis            2013-03-26  Male   \n",
       "\n",
       "          dob  age          age_cat              race  ...  v_decile_score  \\\n",
       "0  1947-04-18   69  Greater than 45             Other  ...               1   \n",
       "1  1982-01-22   34          25 - 45  African-American  ...               1   \n",
       "2  1991-05-14   24     Less than 25  African-American  ...               3   \n",
       "3  1993-01-21   23     Less than 25  African-American  ...               6   \n",
       "4  1973-01-22   43          25 - 45             Other  ...               1   \n",
       "\n",
       "   v_score_text  v_screening_date  in_custody  out_custody  priors_count.1  \\\n",
       "0           Low        2013-08-14  2014-07-07   2014-07-14               0   \n",
       "1           Low        2013-01-27  2013-01-26   2013-02-05               0   \n",
       "2           Low        2013-04-14  2013-06-16   2013-06-16               4   \n",
       "3        Medium        2013-01-13         NaN          NaN               1   \n",
       "4           Low        2013-03-26         NaN          NaN               2   \n",
       "\n",
       "  start   end event two_year_recid  \n",
       "0     0   327     0              0  \n",
       "1     9   159     1              1  \n",
       "2     0    63     0              1  \n",
       "3     0  1174     0              0  \n",
       "4     0  1102     0              0  \n",
       "\n",
       "[5 rows x 53 columns]"
      ]
     },
     "execution_count": 7,
     "metadata": {},
     "output_type": "execute_result"
    }
   ],
   "source": [
    "df = pd.read_csv('https://raw.githubusercontent.com/propublica/compas-analysis/master/compas-scores-two-years.csv')\n",
    "df.head()"
   ]
  },
  {
   "cell_type": "code",
   "execution_count": 8,
   "metadata": {},
   "outputs": [
    {
     "data": {
      "text/plain": [
       "Index(['id', 'name', 'first', 'last', 'compas_screening_date', 'sex', 'dob',\n",
       "       'age', 'age_cat', 'race', 'juv_fel_count', 'decile_score',\n",
       "       'juv_misd_count', 'juv_other_count', 'priors_count',\n",
       "       'days_b_screening_arrest', 'c_jail_in', 'c_jail_out', 'c_case_number',\n",
       "       'c_offense_date', 'c_arrest_date', 'c_days_from_compas',\n",
       "       'c_charge_degree', 'c_charge_desc', 'is_recid', 'r_case_number',\n",
       "       'r_charge_degree', 'r_days_from_arrest', 'r_offense_date',\n",
       "       'r_charge_desc', 'r_jail_in', 'r_jail_out', 'violent_recid',\n",
       "       'is_violent_recid', 'vr_case_number', 'vr_charge_degree',\n",
       "       'vr_offense_date', 'vr_charge_desc', 'type_of_assessment',\n",
       "       'decile_score.1', 'score_text', 'screening_date',\n",
       "       'v_type_of_assessment', 'v_decile_score', 'v_score_text',\n",
       "       'v_screening_date', 'in_custody', 'out_custody', 'priors_count.1',\n",
       "       'start', 'end', 'event', 'two_year_recid'],\n",
       "      dtype='object')"
      ]
     },
     "execution_count": 8,
     "metadata": {},
     "output_type": "execute_result"
    }
   ],
   "source": [
    "df.columns"
   ]
  },
  {
   "cell_type": "code",
   "execution_count": 9,
   "metadata": {},
   "outputs": [],
   "source": [
    "df['days_from_recid'] = pd.to_datetime(df['r_offense_date']) - pd.to_datetime(df['c_offense_date'])\n",
    "df['days_from_recid'] = df['days_from_recid'].dt.days\n",
    "df['two_year_recid2'] = df['days_from_recid']<=730\n",
    "df['two_year_recid2'] = df['two_year_recid2'].astype(int)"
   ]
  },
  {
   "cell_type": "code",
   "execution_count": 10,
   "metadata": {},
   "outputs": [],
   "source": [
    "d = pd.get_dummies(df['c_charge_degree'])\n",
    "df = pd.concat([df, d], axis=1)\n",
    "df.head()\n",
    "df = df.rename(columns={'F':'c_charge_degreeF'})\n",
    "df = df.rename(columns={'M':'c_charge_degreeM'})\n",
    "d = pd.get_dummies(df['age_cat'])\n",
    "df = pd.concat([df, d], axis=1)\n",
    "df = df.rename(columns={'25 - 45':'age_cat_25 - 45'})\n",
    "df = df.rename(columns={'Greater than 45':'age_cat_Greater than 45'})\n",
    "df = df.rename(columns={'Less than 25':'age_cat_Less than 25'})\n",
    "d = pd.get_dummies(df['race'])\n",
    "df = pd.concat([df, d], axis=1)\n",
    "d = pd.get_dummies(df['sex'])\n",
    "df = pd.concat([df, d], axis=1)\n",
    "d = pd.get_dummies(df['score_text'])\n",
    "df = pd.concat([df, d], axis=1)\n",
    "df = df.rename(columns={'High':'score_text_high'})\n",
    "df = df.rename(columns={'Medium':'score_text_medium'})\n",
    "df = df.rename(columns={'Low':'score_text_low'})"
   ]
  },
  {
   "cell_type": "code",
   "execution_count": 11,
   "metadata": {},
   "outputs": [],
   "source": [
    "df['male'] = (df['sex'] == 'Male').astype(int)\n",
    "df['felony'] = (df['c_charge_degree'] == 'F').astype(int)"
   ]
  },
  {
   "cell_type": "code",
   "execution_count": 12,
   "metadata": {},
   "outputs": [
    {
     "data": {
      "text/plain": [
       "0    4283\n",
       "1    2931\n",
       "Name: jailed, dtype: int64"
      ]
     },
     "execution_count": 12,
     "metadata": {},
     "output_type": "execute_result"
    }
   ],
   "source": [
    "# judge decision: \"jailed\" = more than one day in jail.\n",
    "df['jail_days'] = pd.to_datetime(df['c_jail_out']) - pd.to_datetime(df['c_jail_in'])\n",
    "df['jailed'] = (df.jail_days.dt.days > 1).astype(int)\n",
    "D = df['jailed']\n",
    "D.value_counts()"
   ]
  },
  {
   "cell_type": "code",
   "execution_count": 13,
   "metadata": {},
   "outputs": [
    {
     "data": {
      "text/plain": [
       "0    4557\n",
       "1    2657\n",
       "Name: two_year_recid2, dtype: int64"
      ]
     },
     "execution_count": 13,
     "metadata": {},
     "output_type": "execute_result"
    }
   ],
   "source": [
    "# ML outcome\n",
    "Y = df['two_year_recid2'] \n",
    "Y.value_counts()"
   ]
  },
  {
   "cell_type": "code",
   "execution_count": 14,
   "metadata": {},
   "outputs": [
    {
     "data": {
      "text/html": [
       "<div>\n",
       "<style scoped>\n",
       "    .dataframe tbody tr th:only-of-type {\n",
       "        vertical-align: middle;\n",
       "    }\n",
       "\n",
       "    .dataframe tbody tr th {\n",
       "        vertical-align: top;\n",
       "    }\n",
       "\n",
       "    .dataframe thead th {\n",
       "        text-align: right;\n",
       "    }\n",
       "</style>\n",
       "<table border=\"1\" class=\"dataframe\">\n",
       "  <thead>\n",
       "    <tr style=\"text-align: right;\">\n",
       "      <th></th>\n",
       "      <th>felony</th>\n",
       "      <th>male</th>\n",
       "      <th>age</th>\n",
       "      <th>juv_fel_count</th>\n",
       "      <th>juv_misd_count</th>\n",
       "      <th>juv_other_count</th>\n",
       "      <th>priors_count</th>\n",
       "    </tr>\n",
       "  </thead>\n",
       "  <tbody>\n",
       "    <tr>\n",
       "      <th>count</th>\n",
       "      <td>7214.000000</td>\n",
       "      <td>7214.000000</td>\n",
       "      <td>7214.000000</td>\n",
       "      <td>7214.000000</td>\n",
       "      <td>7214.000000</td>\n",
       "      <td>7214.000000</td>\n",
       "      <td>7214.000000</td>\n",
       "    </tr>\n",
       "    <tr>\n",
       "      <th>mean</th>\n",
       "      <td>0.646798</td>\n",
       "      <td>0.806626</td>\n",
       "      <td>34.817993</td>\n",
       "      <td>0.067230</td>\n",
       "      <td>0.090934</td>\n",
       "      <td>0.109371</td>\n",
       "      <td>3.472415</td>\n",
       "    </tr>\n",
       "    <tr>\n",
       "      <th>std</th>\n",
       "      <td>0.477998</td>\n",
       "      <td>0.394971</td>\n",
       "      <td>11.888922</td>\n",
       "      <td>0.473972</td>\n",
       "      <td>0.485239</td>\n",
       "      <td>0.501586</td>\n",
       "      <td>4.882538</td>\n",
       "    </tr>\n",
       "    <tr>\n",
       "      <th>min</th>\n",
       "      <td>0.000000</td>\n",
       "      <td>0.000000</td>\n",
       "      <td>18.000000</td>\n",
       "      <td>0.000000</td>\n",
       "      <td>0.000000</td>\n",
       "      <td>0.000000</td>\n",
       "      <td>0.000000</td>\n",
       "    </tr>\n",
       "    <tr>\n",
       "      <th>25%</th>\n",
       "      <td>0.000000</td>\n",
       "      <td>1.000000</td>\n",
       "      <td>25.000000</td>\n",
       "      <td>0.000000</td>\n",
       "      <td>0.000000</td>\n",
       "      <td>0.000000</td>\n",
       "      <td>0.000000</td>\n",
       "    </tr>\n",
       "    <tr>\n",
       "      <th>50%</th>\n",
       "      <td>1.000000</td>\n",
       "      <td>1.000000</td>\n",
       "      <td>31.000000</td>\n",
       "      <td>0.000000</td>\n",
       "      <td>0.000000</td>\n",
       "      <td>0.000000</td>\n",
       "      <td>2.000000</td>\n",
       "    </tr>\n",
       "    <tr>\n",
       "      <th>75%</th>\n",
       "      <td>1.000000</td>\n",
       "      <td>1.000000</td>\n",
       "      <td>42.000000</td>\n",
       "      <td>0.000000</td>\n",
       "      <td>0.000000</td>\n",
       "      <td>0.000000</td>\n",
       "      <td>5.000000</td>\n",
       "    </tr>\n",
       "    <tr>\n",
       "      <th>max</th>\n",
       "      <td>1.000000</td>\n",
       "      <td>1.000000</td>\n",
       "      <td>96.000000</td>\n",
       "      <td>20.000000</td>\n",
       "      <td>13.000000</td>\n",
       "      <td>17.000000</td>\n",
       "      <td>38.000000</td>\n",
       "    </tr>\n",
       "  </tbody>\n",
       "</table>\n",
       "</div>"
      ],
      "text/plain": [
       "            felony         male          age  juv_fel_count  juv_misd_count  \\\n",
       "count  7214.000000  7214.000000  7214.000000    7214.000000     7214.000000   \n",
       "mean      0.646798     0.806626    34.817993       0.067230        0.090934   \n",
       "std       0.477998     0.394971    11.888922       0.473972        0.485239   \n",
       "min       0.000000     0.000000    18.000000       0.000000        0.000000   \n",
       "25%       0.000000     1.000000    25.000000       0.000000        0.000000   \n",
       "50%       1.000000     1.000000    31.000000       0.000000        0.000000   \n",
       "75%       1.000000     1.000000    42.000000       0.000000        0.000000   \n",
       "max       1.000000     1.000000    96.000000      20.000000       13.000000   \n",
       "\n",
       "       juv_other_count  priors_count  \n",
       "count      7214.000000   7214.000000  \n",
       "mean          0.109371      3.472415  \n",
       "std           0.501586      4.882538  \n",
       "min           0.000000      0.000000  \n",
       "25%           0.000000      0.000000  \n",
       "50%           0.000000      2.000000  \n",
       "75%           0.000000      5.000000  \n",
       "max          17.000000     38.000000  "
      ]
     },
     "execution_count": 14,
     "metadata": {},
     "output_type": "execute_result"
    }
   ],
   "source": [
    "# predictors\n",
    "predictors = ['felony',\n",
    "              'male', 'age', \n",
    "              'juv_fel_count','juv_misd_count', 'juv_other_count', 'priors_count']\n",
    "X = df[predictors]\n",
    "X.describe()"
   ]
  },
  {
   "cell_type": "code",
   "execution_count": 15,
   "metadata": {},
   "outputs": [
    {
     "data": {
      "text/plain": [
       "African-American    3696\n",
       "Caucasian           2454\n",
       "Hispanic             637\n",
       "Other                377\n",
       "Asian                 32\n",
       "Native American       18\n",
       "Name: race, dtype: int64"
      ]
     },
     "execution_count": 15,
     "metadata": {},
     "output_type": "execute_result"
    }
   ],
   "source": [
    "df['race'].value_counts()"
   ]
  },
  {
   "cell_type": "code",
   "execution_count": 16,
   "metadata": {},
   "outputs": [
    {
     "data": {
      "text/plain": [
       "count    7214.000000\n",
       "mean        0.659828\n",
       "std         0.473800\n",
       "min         0.000000\n",
       "25%         0.000000\n",
       "50%         1.000000\n",
       "75%         1.000000\n",
       "max         1.000000\n",
       "Name: race, dtype: float64"
      ]
     },
     "execution_count": 16,
     "metadata": {},
     "output_type": "execute_result"
    }
   ],
   "source": [
    "# indicator variable for non-white\n",
    "NW = (df['race'] != 'Caucasian').astype(int)\n",
    "NW.describe()"
   ]
  },
  {
   "cell_type": "markdown",
   "metadata": {},
   "source": [
    "# Predict Recidivism from Features"
   ]
  },
  {
   "cell_type": "markdown",
   "metadata": {},
   "source": [
    "Use logistic regression to predict recidivism from defendant features. Use nested training/test split so we can get clean test-set predictions for the whole dataset (see Lecture 6 Slide 9)."
   ]
  },
  {
   "cell_type": "code",
   "execution_count": 97,
   "metadata": {},
   "outputs": [
    {
     "name": "stdout",
     "output_type": "stream",
     "text": [
      "[[0.81776692 0.18223308]\n",
      " [0.74576149 0.25423851]\n",
      " [0.65260771 0.34739229]\n",
      " ...\n",
      " [0.56872156 0.43127844]\n",
      " [0.53710979 0.46289021]\n",
      " [0.78013947 0.21986053]]\n",
      "[0 0 0 ... 0 0 0]\n"
     ]
    }
   ],
   "source": [
    "# perform nested train/test split \n",
    "from sklearn.model_selection import train_test_split\n",
    "X_a, X_b, Y_a, Y_b, D_a, D_b,NW_a, NW_b = train_test_split(X, Y, D, NW, test_size = 0.5)\n",
    "\n",
    "# train a logit model to predict recidism (Y) from predictors (X).\n",
    "# form clean test-set predictions for recidivism in the full dataset\n",
    "from sklearn.linear_model import LogisticRegression\n",
    "logit = LogisticRegression()\n",
    "# TODO\n",
    "logit.fit(X_a, Y_a)\n",
    "Yhat = logit.predict(X_b)\n",
    "Ypred = logit.predict_proba(X_b)\n",
    "print(Ypred)\n",
    "print(Yhat)\n"
   ]
  },
  {
   "cell_type": "markdown",
   "metadata": {},
   "source": [
    "Evaluate test set performance."
   ]
  },
  {
   "cell_type": "code",
   "execution_count": 98,
   "metadata": {},
   "outputs": [
    {
     "name": "stdout",
     "output_type": "stream",
     "text": [
      "Accuracy:  0.6673135569725533\n",
      "Balanced Accuracy: 0.568861798990116\n",
      "Roc Auc:  0.568861798990116\n",
      "              precision    recall  f1-score   support\n",
      "\n",
      "           0       0.68      0.91      0.78      2327\n",
      "           1       0.58      0.23      0.33      1280\n",
      "\n",
      "    accuracy                           0.67      3607\n",
      "   macro avg       0.63      0.57      0.55      3607\n",
      "weighted avg       0.65      0.67      0.62      3607\n",
      "\n",
      "0.21703853955375255\n"
     ]
    },
    {
     "data": {
      "image/png": "[encoded data removed]",
      "text/plain": [
       "<Figure size 432x288 with 2 Axes>"
      ]
     },
     "metadata": {
      "needs_background": "light"
     },
     "output_type": "display_data"
    }
   ],
   "source": [
    "# show a confusion matrix\n",
    "from sklearn.metrics import (mean_squared_error, balanced_accuracy_score, roc_auc_score, f1_score, accuracy_score, confusion_matrix, plot_confusion_matrix)\n",
    "from sklearn.metrics import classification_report\n",
    "\n",
    "def gen_metrics(model, X, Y, Yhat):\n",
    "    plot_confusion_matrix(model, X, Y)\n",
    "    print('Accuracy: ', accuracy_score(Y, Yhat))\n",
    "    print('Balanced Accuracy:', balanced_accuracy_score(Y, Yhat))\n",
    "    print('Roc Auc: ', roc_auc_score(Y, Yhat))\n",
    "\n",
    "    # show an sklearn classification report\n",
    "\n",
    "    print(classification_report(Y, Yhat))\n",
    "\n",
    "    # compute ratio of false positives to false negatives.\n",
    "    conf_mat = confusion_matrix(Y, Yhat)\n",
    "    ratio = conf_mat[0,1]/conf_mat[1,0]\n",
    "    print(ratio)\n",
    "\n",
    "gen_metrics(logit, X_b, Y_b, Yhat)"
   ]
  },
  {
   "cell_type": "markdown",
   "metadata": {},
   "source": [
    "# Compare treatment of whites and non-whites for recidivism prediction"
   ]
  },
  {
   "cell_type": "markdown",
   "metadata": {},
   "source": [
    "**Refore to Week 11 slides for these concepts.**"
   ]
  },
  {
   "cell_type": "markdown",
   "metadata": {},
   "source": [
    "Compare base rates for recidivism outcomes of whites and non-whites"
   ]
  },
  {
   "cell_type": "code",
   "execution_count": 103,
   "metadata": {},
   "outputs": [
    {
     "name": "stdout",
     "output_type": "stream",
     "text": [
      "recidivism rate for whites:  0.3280358598207009\n",
      "recidivism rate for non whites:  0.38907563025210085\n"
     ]
    }
   ],
   "source": [
    "NW_w = NW[NW == 0]\n",
    "NW_o = NW[NW == 1]\n",
    "\n",
    "Y_w = Y.drop(NW_o.index)\n",
    "Y_o = Y.drop(NW_w.index)\n",
    "\n",
    "recidivism_rate_w = Y_w.sum()/Y_w.shape[0]\n",
    "recidivism_rate_o = Y_o.sum()/Y_o.shape[0]\n",
    "\n",
    "print('recidivism rate for whites: ', recidivism_rate_w)\n",
    "print('recidivism rate for non whites: ', recidivism_rate_o)"
   ]
  },
  {
   "cell_type": "markdown",
   "metadata": {},
   "source": [
    "Produce confusion matrices, classification reports, and ratio of false positives to false negatives, separately for whites and non-whites."
   ]
  },
  {
   "cell_type": "code",
   "execution_count": 106,
   "metadata": {},
   "outputs": [
    {
     "name": "stdout",
     "output_type": "stream",
     "text": [
      "number of white samples:  1238\n",
      "Accuracy:  0.7059773828756059\n",
      "Balanced Accuracy: 0.5557802494101787\n",
      "Roc Auc:  0.5557802494101787\n",
      "              precision    recall  f1-score   support\n",
      "\n",
      "           0       0.71      0.96      0.82       851\n",
      "           1       0.62      0.16      0.25       387\n",
      "\n",
      "    accuracy                           0.71      1238\n",
      "   macro avg       0.67      0.56      0.53      1238\n",
      "weighted avg       0.68      0.71      0.64      1238\n",
      "\n",
      "0.11314984709480122\n",
      "number of non white samples:  2369\n",
      "Accuracy:  0.6471084845926551\n",
      "Balanced Accuracy: 0.5710596873605914\n",
      "Roc Auc:  0.5710596873605914\n",
      "              precision    recall  f1-score   support\n",
      "\n",
      "           0       0.66      0.88      0.76      1476\n",
      "           1       0.57      0.26      0.36       893\n",
      "\n",
      "    accuracy                           0.65      2369\n",
      "   macro avg       0.62      0.57      0.56      2369\n",
      "weighted avg       0.63      0.65      0.61      2369\n",
      "\n",
      "0.26858877086494687\n"
     ]
    },
    {
     "data": {
      "image/png": "[encoded data removed]",
      "text/plain": [
       "<Figure size 432x288 with 2 Axes>"
      ]
     },
     "metadata": {
      "needs_background": "light"
     },
     "output_type": "display_data"
    },
    {
     "data": {
      "image/png": "[encoded data removed]",
      "text/plain": [
       "<Figure size 432x288 with 2 Axes>"
      ]
     },
     "metadata": {
      "needs_background": "light"
     },
     "output_type": "display_data"
    }
   ],
   "source": [
    "# TODO\n",
    "NW_b_w = NW_b[NW_b == 0]\n",
    "NW_b_o = NW_b[NW_b == 1]\n",
    "\n",
    "NW_b_flip = 1- NW_b\n",
    "\n",
    "Y_b_w = Y_b.drop(NW_b_o.index)\n",
    "X_b_w = X_b.drop(NW_b_o.index)\n",
    "Yhat_w = Yhat[(NW_b_flip.to_numpy()).astype(bool)]\n",
    "Y_b_o = Y_b.drop(NW_b_w.index)\n",
    "X_b_o = X_b.drop(NW_b_w.index)\n",
    "Yhat_o = Yhat[(NW_b.to_numpy()).astype(bool)]\n",
    "\n",
    "#whites\n",
    "print('number of white samples: ', NW_b_flip.sum())\n",
    "gen_metrics(logit, X_b_w, Y_b_w, Yhat_w)\n",
    "#non whites\n",
    "print('number of non white samples: ', NW_b.sum())\n",
    "gen_metrics(logit, X_b_o, Y_b_o, Yhat_o)"
   ]
  },
  {
   "cell_type": "markdown",
   "metadata": {},
   "source": [
    "What concepts of \"fairness\" (from class) are (approximately) satisfied by this classifier? Explain."
   ]
  },
  {
   "cell_type": "markdown",
   "metadata": {},
   "source": [
    "[answer here].\n",
    "The prescision and recall values seem to differ quite large between the white and noin white prisoners. When looking at those numbers and especially the ratio of false positives to false negatives one can see that whites are being treated less harsh by the robot judge which might be due to confounding variables in X."
   ]
  },
  {
   "cell_type": "markdown",
   "metadata": {},
   "source": [
    "# Predict Judge Decision from Features"
   ]
  },
  {
   "cell_type": "markdown",
   "metadata": {},
   "source": [
    "Use logistic regression to predict judge decision from defendant features. In a second model, include Y-hat from previous section as a predictor."
   ]
  },
  {
   "cell_type": "code",
   "execution_count": 118,
   "metadata": {},
   "outputs": [],
   "source": [
    "# train a logit model to predict judge decision (D) from predictors (X). \n",
    "# train a logit model to predict judge decision (D) from predictors (X) and predicted recidivism risk (Yhat)\n",
    "# form clean test-set predictions for the decisions in the full dataset\n",
    "X_train, X_test, d_train, d_test, NW_train, NW_test = train_test_split(X, D, NW, test_size=0.5)\n",
    "import numpy as np\n",
    "\n",
    "logit1 = LogisticRegression()\n",
    "logit1.fit(X_train, d_train)\n",
    "d_hat1 = logit1.predict(X_test)\n",
    "\n",
    "#including Yhat\n",
    "Y_hat = logit.predict(X_train).reshape(Y_hat.shape[0],1)\n",
    "X_train_new = np.hstack((X_train, Y_hat))\n",
    "logit2 = LogisticRegression()\n",
    "logit2.fit(X_train_new, d_train)\n",
    "Y_hat_test = logit.predict(X_test).reshape(Y_hat.shape[0],1)\n",
    "X_test_new = np.hstack((X_test, Y_hat_test))\n",
    "d_hat2 = logit2.predict(X_test_new)\n"
   ]
  },
  {
   "cell_type": "markdown",
   "metadata": {},
   "source": [
    "Produce confusion matrices, classification reports, and ratio of false positives to false negatives, separately for whites and non-whites, and with/without including Y-hat as a predictor."
   ]
  },
  {
   "cell_type": "code",
   "execution_count": 128,
   "metadata": {},
   "outputs": [
    {
     "name": "stdout",
     "output_type": "stream",
     "text": [
      "without Y_hat predictor:\n",
      "number of white samples:  1238\n",
      "Accuracy:  0.6228847703464948\n",
      "Balanced Accuracy: 0.5501720846441343\n",
      "Roc Auc:  0.5501720846441343\n",
      "              precision    recall  f1-score   support\n",
      "\n",
      "           0       0.62      0.94      0.75       735\n",
      "           1       0.66      0.16      0.25       506\n",
      "\n",
      "    accuracy                           0.62      1241\n",
      "   macro avg       0.64      0.55      0.50      1241\n",
      "weighted avg       0.64      0.62      0.55      1241\n",
      "\n",
      "0.09601873536299765\n",
      "number of non white samples:  2369\n",
      "Accuracy:  0.6073541842772612\n",
      "Balanced Accuracy: 0.5567426437433477\n",
      "Roc Auc:  0.5567426437433477\n",
      "              precision    recall  f1-score   support\n",
      "\n",
      "           0       0.62      0.86      0.72      1383\n",
      "           1       0.56      0.26      0.35       983\n",
      "\n",
      "    accuracy                           0.61      2366\n",
      "   macro avg       0.59      0.56      0.54      2366\n",
      "weighted avg       0.59      0.61      0.57      2366\n",
      "\n",
      "0.2726027397260274\n",
      "with Y_hat predictor:\n",
      "number of white samples:  1238\n",
      "Accuracy:  0.6269137792103142\n",
      "Balanced Accuracy: 0.5563442768411713\n",
      "Roc Auc:  0.5563442768411712\n",
      "              precision    recall  f1-score   support\n",
      "\n",
      "           0       0.62      0.94      0.75       735\n",
      "           1       0.66      0.17      0.28       506\n",
      "\n",
      "    accuracy                           0.63      1241\n",
      "   macro avg       0.64      0.56      0.51      1241\n",
      "weighted avg       0.64      0.63      0.56      1241\n",
      "\n",
      "0.1076555023923445\n",
      "number of non white samples:  2369\n",
      "Accuracy:  0.6166525781910397\n",
      "Balanced Accuracy: 0.5671973072235229\n",
      "Roc Auc:  0.5671973072235229\n",
      "              precision    recall  f1-score   support\n",
      "\n",
      "           0       0.63      0.86      0.72      1383\n",
      "           1       0.58      0.27      0.37       983\n",
      "\n",
      "    accuracy                           0.62      2366\n",
      "   macro avg       0.60      0.57      0.55      2366\n",
      "weighted avg       0.61      0.62      0.58      2366\n",
      "\n",
      "0.2720897615708275\n"
     ]
    },
    {
     "data": {
      "image/png": "[encoded data removed]",
      "text/plain": [
       "<Figure size 432x288 with 2 Axes>"
      ]
     },
     "metadata": {
      "needs_background": "light"
     },
     "output_type": "display_data"
    },
    {
     "data": {
      "image/png": "[encoded data removed]",
      "text/plain": [
       "<Figure size 432x288 with 2 Axes>"
      ]
     },
     "metadata": {
      "needs_background": "light"
     },
     "output_type": "display_data"
    },
    {
     "data": {
      "image/png": "[encoded data removed]",
      "text/plain": [
       "<Figure size 432x288 with 2 Axes>"
      ]
     },
     "metadata": {
      "needs_background": "light"
     },
     "output_type": "display_data"
    },
    {
     "data": {
      "image/png": "[encoded data removed]",
      "text/plain": [
       "<Figure size 432x288 with 2 Axes>"
      ]
     },
     "metadata": {
      "needs_background": "light"
     },
     "output_type": "display_data"
    }
   ],
   "source": [
    "#without Y_hat predictor\n",
    "print('without Y_hat predictor:')\n",
    "\n",
    "NW_w = NW_test[NW_test == 0]\n",
    "NW_o = NW_test[NW_test == 1]\n",
    "\n",
    "NW_test_flip = 1- NW_test\n",
    "\n",
    "Y_b_w = d_test.drop(NW_o.index)\n",
    "X_b_w = X_test.drop(NW_o.index)\n",
    "Yhat_w = d_hat1[(NW_test_flip.to_numpy()).astype(bool)]\n",
    "Y_b_o = d_test.drop(NW_w.index)\n",
    "X_b_o = X_test.drop(NW_w.index)\n",
    "Yhat_o = d_hat1[(NW_test.to_numpy()).astype(bool)]\n",
    "\n",
    "#whites\n",
    "print('number of white samples: ', NW_b_flip.sum())\n",
    "gen_metrics(logit1, X_b_w, Y_b_w, Yhat_w)\n",
    "#non whites\n",
    "print('number of non white samples: ', NW_b.sum())\n",
    "gen_metrics(logit1, X_b_o, Y_b_o, Yhat_o)\n",
    "\n",
    "\n",
    "#with Y_hat predictor\n",
    "print('with Y_hat predictor:')\n",
    "Y_b_w_n = d_test.drop(NW_o.index)\n",
    "X_b_w_n = X_test_new[(NW_test_flip.to_numpy()).astype(bool)]\n",
    "Yhat_w_n = d_hat2[(NW_test_flip.to_numpy()).astype(bool)]\n",
    "Y_b_o_n = d_test.drop(NW_w.index)\n",
    "X_b_o_n = X_test_new[(NW_test.to_numpy()).astype(bool)]\n",
    "Yhat_o_n = d_hat2[(NW_test.to_numpy()).astype(bool)]\n",
    "\n",
    "#whites\n",
    "print('number of white samples: ', NW_b_flip.sum())\n",
    "gen_metrics(logit2, X_b_w_n, Y_b_w_n, Yhat_w_n)\n",
    "#non whites\n",
    "print('number of non white samples: ', NW_b.sum())\n",
    "gen_metrics(logit2, X_b_o_n, Y_b_o_n, Yhat_o_n)"
   ]
  },
  {
   "cell_type": "markdown",
   "metadata": {},
   "source": [
    "You can use a custom classifier `threshold` for the decision with this type of code snippet: `decisions = (logit.predict_proba(X) >= threshold).astype(int)`\n",
    "\n",
    "Find group-specific thresholds for both models (with/without Yhat) that obtain statistical parity."
   ]
  },
  {
   "cell_type": "code",
   "execution_count": 173,
   "metadata": {},
   "outputs": [
    {
     "name": "stdout",
     "output_type": "stream",
     "text": [
      "threshold for white without Yhat: \n",
      "0.372\n",
      "ratio:  0.5020145044319098\n",
      "threshold for others without Yhat: \n",
      "0.388\n",
      "ratio:  0.5\n",
      "threshold for whites with Yhat: \n",
      "0.369\n",
      "ratio:  0.5044319097502015\n",
      "threshold for others with Yhat: \n",
      "0.389\n",
      "ratio:  0.5054945054945055\n"
     ]
    }
   ],
   "source": [
    "def gen_ratio(model, X, t):\n",
    "    decisions = (model.predict_proba(X) >= t).astype(int)\n",
    "    print(t)\n",
    "    print('ratio: ', (decisions[:,1].sum()/decisions.shape[0]))\n",
    "\n",
    "print('threshold for white without Yhat: ')\n",
    "gen_ratio(logit1, X_b_w, 0.372)\n",
    "print('threshold for others without Yhat: ')\n",
    "gen_ratio(logit1, X_b_o, 0.388)\n",
    "print('threshold for whites with Yhat: ')\n",
    "gen_ratio(logit2, X_b_w_n, 0.369)\n",
    "print('threshold for others with Yhat: ')\n",
    "gen_ratio(logit2, X_b_o_n, 0.389)"
   ]
  },
  {
   "cell_type": "markdown",
   "metadata": {},
   "source": [
    "# Bonus 1: More Fairness Constraints"
   ]
  },
  {
   "cell_type": "markdown",
   "metadata": {},
   "source": [
    "Find the threshold for both models (with/without Yhat) that obtains error rate balance (equality of recalls for each class)."
   ]
  },
  {
   "cell_type": "code",
   "execution_count": null,
   "metadata": {},
   "outputs": [],
   "source": [
    "# TODO"
   ]
  },
  {
   "cell_type": "markdown",
   "metadata": {},
   "source": [
    "Find the threshold for both models (with/without Yhat) that obtains predictive parity (equality of precisions for each class)."
   ]
  },
  {
   "cell_type": "code",
   "execution_count": 26,
   "metadata": {},
   "outputs": [],
   "source": [
    "# TODO"
   ]
  },
  {
   "cell_type": "markdown",
   "metadata": {},
   "source": [
    "Find the threshold for both models (with/without Yhat) that obtains treatment equality (ratio of false positives to false negatives)."
   ]
  },
  {
   "cell_type": "code",
   "execution_count": 27,
   "metadata": {},
   "outputs": [],
   "source": [
    "# TODO"
   ]
  },
  {
   "cell_type": "markdown",
   "metadata": {},
   "source": [
    "# Bonus 2: Pre-Processing for Fairness"
   ]
  },
  {
   "cell_type": "markdown",
   "metadata": {},
   "source": [
    "Regress all predictors in `X` on the protected attribute `NW` and produce residuals `Xtilde`. Re-do the machine learning tasks above and discuss how it changes the fairness metrics."
   ]
  },
  {
   "cell_type": "code",
   "execution_count": null,
   "metadata": {},
   "outputs": [],
   "source": [
    "# TODO"
   ]
  }
 ],
 "metadata": {
  "kernelspec": {
   "display_name": "Python 3",
   "language": "python",
   "name": "python3"
  },
  "language_info": {
   "codemirror_mode": {
    "name": "ipython",
    "version": 3
   },
   "file_extension": ".py",
   "mimetype": "text/x-python",
   "name": "python",
   "nbconvert_exporter": "python",
   "pygments_lexer": "ipython3",
   "version": "3.7.6"
  }
 },
 "nbformat": 4,
 "nbformat_minor": 4
}
